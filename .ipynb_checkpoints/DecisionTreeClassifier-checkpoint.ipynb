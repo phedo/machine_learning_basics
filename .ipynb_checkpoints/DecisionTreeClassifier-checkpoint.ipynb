{
 "cells": [
  {
   "cell_type": "code",
   "execution_count": 17,
   "metadata": {},
   "outputs": [],
   "source": [
    "from sklearn.tree import DecisionTreeClassifier\n",
    "import numpy as np\n",
    "from sklearn.model_selection import train_test_split\n",
    "from sklearn.metrics import accuracy_score"
   ]
  },
  {
   "cell_type": "code",
   "execution_count": 18,
   "metadata": {},
   "outputs": [],
   "source": [
    "# create input data (2 efficient featires and 6 - noise)\n",
    "np.random.seed(17)\n",
    "data = np.random.randint(0,15,size = (100, 8))\n",
    "\n",
    "def indicator_function(x1,x2):\n",
    "    calc = x1*x1/4 + x2*x2/9\n",
    "    if calc <= 16:\n",
    "        return 1\n",
    "    else:\n",
    "        return 0\n",
    "\n",
    "def my_gimme():\n",
    "    for x in data:\n",
    "        yield indicator_function(x[0],x[1])\n",
    "        \n",
    "labels = np.empty(100)\n",
    "for i, el in enumerate(my_gimme()): labels[i] = el"
   ]
  },
  {
   "cell_type": "code",
   "execution_count": 19,
   "metadata": {},
   "outputs": [
    {
     "data": {
      "text/plain": [
       "80.0"
      ]
     },
     "execution_count": 19,
     "metadata": {},
     "output_type": "execute_result"
    }
   ],
   "source": [
    "# split input data\n",
    "data_train, data_test, labels_train, labels_test = train_test_split(data, labels, test_size = 0.2)\n",
    "\n",
    "data_train.size / 8  # check the size - data split OK"
   ]
  },
  {
   "cell_type": "code",
   "execution_count": 20,
   "metadata": {},
   "outputs": [],
   "source": [
    "# run DecisionTreeClassifier\n",
    "clf_tree = DecisionTreeClassifier(criterion='entropy', max_depth = 3, random_state = 17)\n",
    "clf_tree.fit(data_train, labels_train)\n",
    "clf_tree_prediction = clf_tree.predict(data_test)"
   ]
  },
  {
   "cell_type": "code",
   "execution_count": 22,
   "metadata": {},
   "outputs": [
    {
     "name": "stdout",
     "output_type": "stream",
     "text": [
      "Accuracy:95.0%\n"
     ]
    }
   ],
   "source": [
    "# check prediction\n",
    "print(\"Accuracy:\" + str(accuracy_score(labels_test, clf_tree_prediction)*100) + \"%\")"
   ]
  },
  {
   "cell_type": "code",
   "execution_count": 32,
   "metadata": {},
   "outputs": [],
   "source": [
    "# visualise tree\n",
    "import pydotplus #pip install pydotplus\n",
    "from sklearn.tree import export_graphviz\n",
    "\n",
    "def tree_graph_to_png(tree, feature_names, png_file_to_save):\n",
    "    tree_str = export_graphviz(tree, feature_names=feature_names, \n",
    "                                     filled=True, out_file=None)\n",
    "    graph = pydotplus.graph_from_dot_data(tree_str)  \n",
    "    graph.write_png(png_file_to_save)"
   ]
  },
  {
   "cell_type": "code",
   "execution_count": 34,
   "metadata": {},
   "outputs": [],
   "source": [
    "names = []\n",
    "for i in range(8):\n",
    "    names.append('x' + str(i))"
   ]
  },
  {
   "cell_type": "code",
   "execution_count": 35,
   "metadata": {},
   "outputs": [],
   "source": [
    "tree_graph_to_png(tree=clf_tree, feature_names=names, \n",
    "                  png_file_to_save='decision_tree1.png')"
   ]
  },
  {
   "cell_type": "code",
   "execution_count": 36,
   "metadata": {},
   "outputs": [],
   "source": [
    "# note: if you get \"GraphViz's executables not found\"\n",
    "# try: sudo apt-get install python-pydot"
   ]
  }
 ],
 "metadata": {
  "kernelspec": {
   "display_name": "Python 3",
   "language": "python",
   "name": "python3"
  },
  "language_info": {
   "codemirror_mode": {
    "name": "ipython",
    "version": 3
   },
   "file_extension": ".py",
   "mimetype": "text/x-python",
   "name": "python",
   "nbconvert_exporter": "python",
   "pygments_lexer": "ipython3",
   "version": "3.7.3"
  }
 },
 "nbformat": 4,
 "nbformat_minor": 2
}
